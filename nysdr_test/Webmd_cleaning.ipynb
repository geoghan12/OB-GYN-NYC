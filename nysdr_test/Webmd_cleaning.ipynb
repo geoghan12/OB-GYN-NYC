{
 "cells": [
  {
   "cell_type": "code",
   "execution_count": 1,
   "metadata": {},
   "outputs": [],
   "source": [
    "import numpy as np\n",
    "import pandas as pd\n",
    "import re"
   ]
  },
  {
   "cell_type": "code",
   "execution_count": 53,
   "metadata": {},
   "outputs": [
    {
     "data": {
      "text/plain": [
       "(101, 2)"
      ]
     },
     "execution_count": 53,
     "metadata": {},
     "output_type": "execute_result"
    }
   ],
   "source": [
    "df=pd.read_csv(\"/Users/sophiegeoghan/Desktop/webmd_nyc/webmd_nyc/webmd_zipcodes.csv\", header=None)\n",
    "df.columns=['Name',\"Rating\"]\n",
    "df.drop_duplicates('Name').shape"
   ]
  },
  {
   "cell_type": "code",
   "execution_count": 23,
   "metadata": {},
   "outputs": [
    {
     "data": {
      "text/plain": [
       "(101, 2)"
      ]
     },
     "execution_count": 23,
     "metadata": {},
     "output_type": "execute_result"
    }
   ],
   "source": [
    "webmd_df=pd.DataFrame(columns=df.columns)\n",
    "df=pd.read_csv(\"/Users/sophiegeoghan/Desktop/webmd_nyc/webmd_nyc/webmd_Manhattan.csv\", header=None)\n",
    "\n",
    "df=pd.read_csv(\"/Users/sophiegeoghan/Desktop/webmd_nyc/webmd_nyc/webmd_zipcodes.csv\", header=None)\n"
   ]
  },
  {
   "cell_type": "code",
   "execution_count": null,
   "metadata": {},
   "outputs": [],
   "source": []
  },
  {
   "cell_type": "code",
   "execution_count": 49,
   "metadata": {},
   "outputs": [
    {
     "data": {
      "text/plain": [
       "(196, 2)"
      ]
     },
     "execution_count": 49,
     "metadata": {},
     "output_type": "execute_result"
    }
   ],
   "source": [
    "df=pd.read_csv(\"/Users/sophiegeoghan/Desktop/webmd_nyc/webmd_nyc/webmd_Brooklyn.csv\", header=None)\n",
    "df.columns=['Name',\"Rating\"]\n",
    "df=df.drop_duplicates('Name')\n",
    "# df[df.Name==\"Ramin Ahmadi\"]\n",
    "df2=pd.read_csv(\"/Users/sophiegeoghan/Desktop/webmd_nyc/webmd_nyc/webmd_BrooklynHeights.csv\", header=None)\n",
    "df2.columns=['Name',\"Rating\"]\n",
    "df2=df2.drop_duplicates('Name')\n",
    "df3=pd.concat([df,df2],axis=0)\n",
    "df3.drop_duplicates(\"Name\").shape\n"
   ]
  },
  {
   "cell_type": "code",
   "execution_count": 52,
   "metadata": {},
   "outputs": [],
   "source": [
    "df=pd.read_csv(\"/Users/sophiegeoghan/Desktop/webmd_nyc/webmd_nyc/webmd_Brooklyn.csv\", header=None)\n",
    "df.columns=['Name',\"Rating\"]\n",
    "df=df.drop_duplicates('Name')\n",
    "\n",
    "df['Name'] = df['Name'].apply(lambda x: re.sub('( [A-Z]{1,1}). ', ' ', x))\n",
    "df['Name']=df['Name'].apply(lambda x: re.sub('(, MD)', '', x))"
   ]
  },
  {
   "cell_type": "code",
   "execution_count": 37,
   "metadata": {},
   "outputs": [
    {
     "data": {
      "text/plain": [
       "(101, 2)"
      ]
     },
     "execution_count": 37,
     "metadata": {},
     "output_type": "execute_result"
    }
   ],
   "source": [
    "df=pd.read_csv(\"/Users/sophiegeoghan/Desktop/webmd_nyc/webmd_nyc/webmd_Queens.csv\", header=None)\n",
    "df.columns=['Name',\"Rating\"]\n",
    "df.drop_duplicates('Name').shape"
   ]
  },
  {
   "cell_type": "code",
   "execution_count": null,
   "metadata": {},
   "outputs": [],
   "source": []
  }
 ],
 "metadata": {
  "kernelspec": {
   "display_name": "Python 3",
   "language": "python",
   "name": "python3"
  },
  "language_info": {
   "codemirror_mode": {
    "name": "ipython",
    "version": 3
   },
   "file_extension": ".py",
   "mimetype": "text/x-python",
   "name": "python",
   "nbconvert_exporter": "python",
   "pygments_lexer": "ipython3",
   "version": "3.6.5"
  }
 },
 "nbformat": 4,
 "nbformat_minor": 2
}
