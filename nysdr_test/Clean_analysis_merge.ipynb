{
 "cells": [
  {
   "cell_type": "code",
   "execution_count": 40,
   "metadata": {},
   "outputs": [],
   "source": [
    "import numpy as np\n",
    "import pandas as pd\n",
    "import re"
   ]
  },
  {
   "cell_type": "code",
   "execution_count": 41,
   "metadata": {},
   "outputs": [],
   "source": [
    "df=pd.read_csv(\"NYC_obgyn_final.csv\", header=None)\n",
    "df.columns=[\"Malpractice\",\"Boro\",\"Education\",\"Name\",\"Specialty\"]"
   ]
  },
  {
   "cell_type": "code",
   "execution_count": 42,
   "metadata": {},
   "outputs": [],
   "source": [
    "def split_out_year(ed):\n",
    "    try:\n",
    "        s=re.search(',\\n',ed).span()\n",
    "    except:\n",
    "        s=(None,None)\n",
    "    school=ed[0:s[0]]\n",
    "    year= ed[s[1]:]\n",
    "    return year\n",
    "def split_out_school(ed):\n",
    "    try:\n",
    "        s=re.search(',\\n',ed).span()\n",
    "    except:\n",
    "        s=(None,None)\n",
    "    return ed[0:s[0]]\n",
    "df['School']=list(map(split_out_school,df.Education))\n",
    "df['Year']=list(map(split_out_year,df.Education))\n",
    "df=df.drop(\"Education\",axis=1)"
   ]
  },
  {
   "cell_type": "code",
   "execution_count": 43,
   "metadata": {},
   "outputs": [],
   "source": [
    "us_states=pd.read_csv(\"States.csv\")\n",
    "us_states=us_states[us_states.x!='US']\n",
    "us_states=us_states['x']\n",
    "\n",
    "df['State'] = df['School'].str.extract('( [A-Z]{2}$)')\n",
    "df.State=df.State.str.strip()"
   ]
  },
  {
   "cell_type": "code",
   "execution_count": 44,
   "metadata": {},
   "outputs": [],
   "source": [
    "# Finding country where they went to school\n",
    "ind=-1\n",
    "countries=[]\n",
    "for st in df.State:\n",
    "    ind+=1\n",
    "    if st in us_states.values:\n",
    "        countries.append('USA')\n",
    "    else:\n",
    "        try:\n",
    "            country=re.search(', [A-Z]+$',df.School[ind]).group() #{1}[a-z]\n",
    "            #print(country[2:])\n",
    "            countries.append(country[2:])#df['School'].str.extract(', [A-Z]{1}[a-z]+$')\n",
    "        except Exception as e:\n",
    "            #print(e)\n",
    "            countries.append('')\n",
    "            continue\n",
    "df['Country']=countries"
   ]
  },
  {
   "cell_type": "code",
   "execution_count": 45,
   "metadata": {
    "scrolled": true
   },
   "outputs": [],
   "source": [
    "def find_num_pay(mal):\n",
    "    # check Judgments and Arbitration Awards\n",
    "    start,end =re.search('Number of awards:',mal).span()\n",
    "    try:\n",
    "        a= int(mal[end+1:end+2])\n",
    "    except:\n",
    "        # check Settlements\n",
    "        start,end_p =re.search('Number of payments:',mal).span()\n",
    "        a= int(mal[end_p+1:end_p+2])\n",
    "    return a"
   ]
  },
  {
   "cell_type": "code",
   "execution_count": 46,
   "metadata": {},
   "outputs": [],
   "source": [
    "ind=0\n",
    "num_payments=[]\n",
    "for m in range(len(df)):\n",
    "    #print(ind)\n",
    "    if df.Malpractice[ind]=='None reported':\n",
    "        num_payments.append(0)\n",
    "    else:\n",
    "        a=find_num_pay(df.Malpractice[ind])\n",
    "        num_payments.append(a)\n",
    "    ind+=1\n",
    "df['Num_Payments']=num_payments"
   ]
  },
  {
   "cell_type": "code",
   "execution_count": 47,
   "metadata": {},
   "outputs": [],
   "source": [
    "df['ind_law_suit']=df['Num_Payments']\n",
    "df['year']=df['Num_Payments']\n",
    "df['date']=df['Num_Payments']\n",
    "df['area']=df['Num_Payments']\n",
    "df['significance']=df['Num_Payments']\n",
    "\n",
    "def extract_law_suit_info(deets,ind):\n",
    "    tmp_mal_rows=pd.DataFrame(columns=df.columns)\n",
    "    for d in range(1,len(deets)):\n",
    "        suit_info={}\n",
    "        suit_info['ind_law_suit']=d\n",
    "        date=re.search('(..-..-....)', deets[d])\n",
    "        suit_info['date'] = date.group()\n",
    "        suit_info['year']=date.group()[6:]\n",
    "        # area might be zip code or County, State\n",
    "        try:\n",
    "            area=re.search('\\d{5}',deets[d].strip())\n",
    "            suit_info['area'] = area.group()\n",
    "            suit_info['significance']= deets[d].strip()[area.span()[1]+1:]\n",
    "        except:\n",
    "            try:\n",
    "                _,end=date.span()\n",
    "                area_obj=re.search('[A-Za-z]* *[\\w]*(, NY)',deets[d][end:].strip())\n",
    "                suit_info['area']=area_obj.group().strip()\n",
    "                suit_info['significance']=deets[d][end:].strip()[area_obj.span()[1]+1:]\n",
    "            except:\n",
    "                _,end=date.span()\n",
    "                area_obj=re.search('Not Available',deets[d][end:].strip())\n",
    "                suit_info['area']=area_obj.group().strip()\n",
    "                suit_info['significance']=deets[d][end:].strip()[area_obj.span()[1]+1:]\n",
    "        tmp_row=pd.DataFrame([df.loc[ind]],columns=df.columns)\n",
    "        tmp_row['date']=suit_info['date']\n",
    "        tmp_row['year']=suit_info['year']\n",
    "        tmp_row['area']=suit_info['area']\n",
    "        tmp_row['significance']=suit_info['significance']\n",
    "        tmp_row['ind_law_suit']=suit_info['ind_law_suit']\n",
    "        tmp_mal_rows=pd.concat([tmp_mal_rows, tmp_row], axis=0)\n",
    "    return tmp_mal_rows"
   ]
  },
  {
   "cell_type": "code",
   "execution_count": 48,
   "metadata": {},
   "outputs": [],
   "source": [
    "# Fill in Law Suit info!\n",
    "# creates empty data frame to fill\n",
    "mal_rows=pd.DataFrame(columns=df.columns)\n",
    "for ind in range(len(df)):\n",
    "    #print(ind)\n",
    "    mal=df.Malpractice[ind]\n",
    "    if mal=='None reported':\n",
    "        continue\n",
    "    start,end =re.search('High   |   Low\\n',mal).span()\n",
    "    start2,end2=re.search(\"\\n\\nThe doctor\\'s malpractice history\",mal).span()\n",
    "    deets=mal[end:start2].strip()\n",
    "    deets=deets.split('\\n')\n",
    "    if re.search('None reported',deets[1]) != None:\n",
    "        x,y=re.search('\\n(..-..-....)',mal).span()\n",
    "        x2,y2=re.search('\\n\\nSettlements',mal).span()\n",
    "        deets=[0,mal[x+1:x2]]\n",
    "    tmp_mal_rows=extract_law_suit_info(deets,ind)\n",
    "    mal_rows=pd.concat([mal_rows, tmp_mal_rows], axis=0)\n",
    "bueno_rows=df[df.Malpractice==\"None reported\"]\n",
    "new_df=pd.concat([bueno_rows,mal_rows],axis=0)\n",
    "\n",
    "# date_rows.year=list(map(lambda x: int(x),date_rows.year))"
   ]
  },
  {
   "cell_type": "code",
   "execution_count": 49,
   "metadata": {},
   "outputs": [],
   "source": [
    "df['Name'].apply(lambda x: \" \".join(x.title() for x in x.split()))\n",
    "# remove commas\n",
    "df['Name']=df['Name'].apply(lambda x: \" \".join([x.split()[1].title(),x.split()[0][:-1].title()]))"
   ]
  },
  {
   "cell_type": "code",
   "execution_count": 113,
   "metadata": {},
   "outputs": [],
   "source": [
    "df.to_csv(\"nysdr_clean.csv\")"
   ]
  },
  {
   "cell_type": "code",
   "execution_count": 63,
   "metadata": {},
   "outputs": [],
   "source": [
    "df_webmd=pd.read_csv(\"/Users/sophiegeoghan/Desktop/webmd_nyc/webmd_nyc/webmd_all.csv\", header=None)\n",
    "df_webmd.columns=['Name',\"Rating\"]\n",
    "df_webmd=df_webmd.drop_duplicates('Name')\n",
    "\n",
    "df_webmd['Name'] = df_webmd['Name'].apply(lambda x: re.sub('( [A-Z]{1,1}). ', ' ', x))\n",
    "df_webmd['Name']=df_webmd['Name'].apply(lambda x: re.sub('(, MD)', '', x))"
   ]
  },
  {
   "cell_type": "code",
   "execution_count": 110,
   "metadata": {},
   "outputs": [],
   "source": [
    "df_hg=pd.read_csv(\"healthgrades_zips.csv\", header=None) #/Users/sophiegeoghan/Desktop/\n",
    "df_hg.columns=[\"Rating\",\"Name\",\"N_Reviews\"]\n",
    "df_hg=df_hg.drop_duplicates(\"Name\")\n",
    "df_hg['Name'] = df_hg['Name'].apply(lambda x: re.sub('Dr. ', ' ', x))\n",
    "df_hg['Name']=df_hg['Name'].apply(lambda x: re.sub('(, MD)', '', x))"
   ]
  },
  {
   "cell_type": "code",
   "execution_count": 112,
   "metadata": {},
   "outputs": [
    {
     "name": "stdout",
     "output_type": "stream",
     "text": [
      "Malpractice     object\n",
      "Boro            object\n",
      "Name            object\n",
      "Specialty       object\n",
      "School          object\n",
      "Year            object\n",
      "State           object\n",
      "Country         object\n",
      "Num_Payments     int64\n",
      "ind_law_suit     int64\n",
      "year             int64\n",
      "date             int64\n",
      "area             int64\n",
      "significance     int64\n",
      "dtype: object\n"
     ]
    },
    {
     "data": {
      "text/html": [
       "<div>\n",
       "<style scoped>\n",
       "    .dataframe tbody tr th:only-of-type {\n",
       "        vertical-align: middle;\n",
       "    }\n",
       "\n",
       "    .dataframe tbody tr th {\n",
       "        vertical-align: top;\n",
       "    }\n",
       "\n",
       "    .dataframe thead th {\n",
       "        text-align: right;\n",
       "    }\n",
       "</style>\n",
       "<table border=\"1\" class=\"dataframe\">\n",
       "  <thead>\n",
       "    <tr style=\"text-align: right;\">\n",
       "      <th></th>\n",
       "      <th>Malpractice</th>\n",
       "      <th>Boro</th>\n",
       "      <th>Name</th>\n",
       "      <th>Specialty</th>\n",
       "      <th>School</th>\n",
       "      <th>Year</th>\n",
       "      <th>State</th>\n",
       "      <th>Country</th>\n",
       "      <th>Num_Payments</th>\n",
       "      <th>ind_law_suit</th>\n",
       "      <th>year</th>\n",
       "      <th>date</th>\n",
       "      <th>area</th>\n",
       "      <th>significance</th>\n",
       "      <th>Rating</th>\n",
       "      <th>N_Reviews</th>\n",
       "    </tr>\n",
       "  </thead>\n",
       "  <tbody>\n",
       "  </tbody>\n",
       "</table>\n",
       "</div>"
      ],
      "text/plain": [
       "Empty DataFrame\n",
       "Columns: [Malpractice, Boro, Name, Specialty, School, Year, State, Country, Num_Payments, ind_law_suit, year, date, area, significance, Rating, N_Reviews]\n",
       "Index: []"
      ]
     },
     "execution_count": 112,
     "metadata": {},
     "output_type": "execute_result"
    }
   ],
   "source": [
    "df_merge = pd.merge(df, df_hg, on='Name')\n",
    "# df_merge.loc[(int(df_merge['Rating'])!=0)]\n",
    "print(df.dtypes)\n",
    "df_hg.dtypes\n",
    "df_merge"
   ]
  },
  {
   "cell_type": "code",
   "execution_count": 101,
   "metadata": {},
   "outputs": [
    {
     "data": {
      "text/html": [
       "<div>\n",
       "<style scoped>\n",
       "    .dataframe tbody tr th:only-of-type {\n",
       "        vertical-align: middle;\n",
       "    }\n",
       "\n",
       "    .dataframe tbody tr th {\n",
       "        vertical-align: top;\n",
       "    }\n",
       "\n",
       "    .dataframe thead th {\n",
       "        text-align: right;\n",
       "    }\n",
       "</style>\n",
       "<table border=\"1\" class=\"dataframe\">\n",
       "  <thead>\n",
       "    <tr style=\"text-align: right;\">\n",
       "      <th></th>\n",
       "      <th>Malpractice</th>\n",
       "      <th>Boro</th>\n",
       "      <th>Name</th>\n",
       "      <th>Specialty</th>\n",
       "      <th>School</th>\n",
       "      <th>Year</th>\n",
       "      <th>State</th>\n",
       "      <th>Country</th>\n",
       "      <th>Num_Payments</th>\n",
       "      <th>ind_law_suit</th>\n",
       "      <th>year</th>\n",
       "      <th>date</th>\n",
       "      <th>area</th>\n",
       "      <th>significance</th>\n",
       "    </tr>\n",
       "  </thead>\n",
       "  <tbody>\n",
       "    <tr>\n",
       "      <th>975</th>\n",
       "      <td>None reported</td>\n",
       "      <td>Manhattan (Borough)</td>\n",
       "      <td>Shahnoz Rustamova</td>\n",
       "      <td>Obstetrics and Gynecology</td>\n",
       "      <td>SAMARKANDSKIJ MEDICAL INSTITUTE, SAMARKAND, UZ...</td>\n",
       "      <td>1995</td>\n",
       "      <td>NaN</td>\n",
       "      <td>UZBEKISTAN</td>\n",
       "      <td>0</td>\n",
       "      <td>0</td>\n",
       "      <td>0</td>\n",
       "      <td>0</td>\n",
       "      <td>0</td>\n",
       "      <td>0</td>\n",
       "    </tr>\n",
       "    <tr>\n",
       "      <th>1047</th>\n",
       "      <td>None reported</td>\n",
       "      <td>Manhattan (Borough)</td>\n",
       "      <td>Miklos Toth</td>\n",
       "      <td>Obstetrics and Gynecology</td>\n",
       "      <td>SEMMELWEIS ORVOSTUDOMANYI EGYETEM, BUDAPEST, H...</td>\n",
       "      <td>1965</td>\n",
       "      <td>NaN</td>\n",
       "      <td>HUNGARY</td>\n",
       "      <td>0</td>\n",
       "      <td>0</td>\n",
       "      <td>0</td>\n",
       "      <td>0</td>\n",
       "      <td>0</td>\n",
       "      <td>0</td>\n",
       "    </tr>\n",
       "    <tr>\n",
       "      <th>120</th>\n",
       "      <td>Malpractice\\nLast Updated 11-10-2011\\nTO TOP\\n...</td>\n",
       "      <td>Brooklyn</td>\n",
       "      <td>Yi-Chun Lee</td>\n",
       "      <td>Obstetrics and Gynecology/Gynecologic Oncology</td>\n",
       "      <td>TEMPLE UNIVERSITY SCHOOL OF MEDICINE, PHILADEL...</td>\n",
       "      <td>1993</td>\n",
       "      <td>PA</td>\n",
       "      <td>USA</td>\n",
       "      <td>2</td>\n",
       "      <td>2</td>\n",
       "      <td>2</td>\n",
       "      <td>2</td>\n",
       "      <td>2</td>\n",
       "      <td>2</td>\n",
       "    </tr>\n",
       "    <tr>\n",
       "      <th>516</th>\n",
       "      <td>None reported</td>\n",
       "      <td>Queens</td>\n",
       "      <td>Rajeevi Madankumar</td>\n",
       "      <td>Obstetrics and Gynecology</td>\n",
       "      <td>MADURAI MEDICAL COLLEGE, MADURAI UNIVERSITY, M...</td>\n",
       "      <td>1989</td>\n",
       "      <td>NaN</td>\n",
       "      <td>INDIA</td>\n",
       "      <td>0</td>\n",
       "      <td>0</td>\n",
       "      <td>0</td>\n",
       "      <td>0</td>\n",
       "      <td>0</td>\n",
       "      <td>0</td>\n",
       "    </tr>\n",
       "    <tr>\n",
       "      <th>61</th>\n",
       "      <td>Malpractice\\nLast Updated 12-30-2014\\nTO TOP\\n...</td>\n",
       "      <td>Brooklyn</td>\n",
       "      <td>Eugene Ellis</td>\n",
       "      <td>Obstetrics and Gynecology</td>\n",
       "      <td>NEW YORK MEDICAL COLLEGE, VALHALLA NY</td>\n",
       "      <td>1977</td>\n",
       "      <td>NY</td>\n",
       "      <td>USA</td>\n",
       "      <td>4</td>\n",
       "      <td>4</td>\n",
       "      <td>4</td>\n",
       "      <td>4</td>\n",
       "      <td>4</td>\n",
       "      <td>4</td>\n",
       "    </tr>\n",
       "    <tr>\n",
       "      <th>934</th>\n",
       "      <td>Malpractice\\nLast Updated 04-17-2018\\nTO TOP\\n...</td>\n",
       "      <td>Manhattan (Borough)</td>\n",
       "      <td>Renuka Paka</td>\n",
       "      <td>Obstetrics and Gynecology</td>\n",
       "      <td>GUNTUR MEDICAL COLLEGE, NTR UNIVERSITY OF HEAL...</td>\n",
       "      <td>1976</td>\n",
       "      <td>NaN</td>\n",
       "      <td>INDIA</td>\n",
       "      <td>2</td>\n",
       "      <td>2</td>\n",
       "      <td>2</td>\n",
       "      <td>2</td>\n",
       "      <td>2</td>\n",
       "      <td>2</td>\n",
       "    </tr>\n",
       "    <tr>\n",
       "      <th>263</th>\n",
       "      <td>None reported</td>\n",
       "      <td>Bronx</td>\n",
       "      <td>Siobhan Dolan</td>\n",
       "      <td>Obstetrics and Gynecology</td>\n",
       "      <td>HARVARD MEDICAL SCHOOL, BOSTON MA</td>\n",
       "      <td>1993</td>\n",
       "      <td>MA</td>\n",
       "      <td>USA</td>\n",
       "      <td>0</td>\n",
       "      <td>0</td>\n",
       "      <td>0</td>\n",
       "      <td>0</td>\n",
       "      <td>0</td>\n",
       "      <td>0</td>\n",
       "    </tr>\n",
       "    <tr>\n",
       "      <th>591</th>\n",
       "      <td>None reported</td>\n",
       "      <td>Queens</td>\n",
       "      <td>Michael Wenof</td>\n",
       "      <td>Obstetrics and Gynecology/Reproductive Endocri...</td>\n",
       "      <td>JEFFERSON MEDICAL COLLEGE THOMAS JEFFERSON UNI...</td>\n",
       "      <td>1974</td>\n",
       "      <td>PA</td>\n",
       "      <td>USA</td>\n",
       "      <td>0</td>\n",
       "      <td>0</td>\n",
       "      <td>0</td>\n",
       "      <td>0</td>\n",
       "      <td>0</td>\n",
       "      <td>0</td>\n",
       "    </tr>\n",
       "    <tr>\n",
       "      <th>826</th>\n",
       "      <td>None reported</td>\n",
       "      <td>Manhattan (Borough)</td>\n",
       "      <td>Tamara Kolev</td>\n",
       "      <td>Obstetrics and Gynecology</td>\n",
       "      <td>FL STATE UNIV COLL OF MED, TALLAHASSEE FL</td>\n",
       "      <td>2007</td>\n",
       "      <td>FL</td>\n",
       "      <td>USA</td>\n",
       "      <td>0</td>\n",
       "      <td>0</td>\n",
       "      <td>0</td>\n",
       "      <td>0</td>\n",
       "      <td>0</td>\n",
       "      <td>0</td>\n",
       "    </tr>\n",
       "    <tr>\n",
       "      <th>781</th>\n",
       "      <td>None reported</td>\n",
       "      <td>Manhattan (Borough)</td>\n",
       "      <td>Marcia Harris</td>\n",
       "      <td>Gynecology Only</td>\n",
       "      <td>COLUMBIA UNIVERSITY COLLEGE OF PHYSICIANS AND ...</td>\n",
       "      <td>1975</td>\n",
       "      <td>NaN</td>\n",
       "      <td></td>\n",
       "      <td>0</td>\n",
       "      <td>0</td>\n",
       "      <td>0</td>\n",
       "      <td>0</td>\n",
       "      <td>0</td>\n",
       "      <td>0</td>\n",
       "    </tr>\n",
       "  </tbody>\n",
       "</table>\n",
       "</div>"
      ],
      "text/plain": [
       "                                            Malpractice                 Boro  \\\n",
       "975                                       None reported  Manhattan (Borough)   \n",
       "1047                                      None reported  Manhattan (Borough)   \n",
       "120   Malpractice\\nLast Updated 11-10-2011\\nTO TOP\\n...             Brooklyn   \n",
       "516                                       None reported               Queens   \n",
       "61    Malpractice\\nLast Updated 12-30-2014\\nTO TOP\\n...             Brooklyn   \n",
       "934   Malpractice\\nLast Updated 04-17-2018\\nTO TOP\\n...  Manhattan (Borough)   \n",
       "263                                       None reported                Bronx   \n",
       "591                                       None reported               Queens   \n",
       "826                                       None reported  Manhattan (Borough)   \n",
       "781                                       None reported  Manhattan (Borough)   \n",
       "\n",
       "                    Name                                          Specialty  \\\n",
       "975    Shahnoz Rustamova                          Obstetrics and Gynecology   \n",
       "1047         Miklos Toth                          Obstetrics and Gynecology   \n",
       "120          Yi-Chun Lee     Obstetrics and Gynecology/Gynecologic Oncology   \n",
       "516   Rajeevi Madankumar                          Obstetrics and Gynecology   \n",
       "61          Eugene Ellis                          Obstetrics and Gynecology   \n",
       "934          Renuka Paka                          Obstetrics and Gynecology   \n",
       "263        Siobhan Dolan                          Obstetrics and Gynecology   \n",
       "591        Michael Wenof  Obstetrics and Gynecology/Reproductive Endocri...   \n",
       "826         Tamara Kolev                          Obstetrics and Gynecology   \n",
       "781        Marcia Harris                                    Gynecology Only   \n",
       "\n",
       "                                                 School  Year State  \\\n",
       "975   SAMARKANDSKIJ MEDICAL INSTITUTE, SAMARKAND, UZ...  1995   NaN   \n",
       "1047  SEMMELWEIS ORVOSTUDOMANYI EGYETEM, BUDAPEST, H...  1965   NaN   \n",
       "120   TEMPLE UNIVERSITY SCHOOL OF MEDICINE, PHILADEL...  1993    PA   \n",
       "516   MADURAI MEDICAL COLLEGE, MADURAI UNIVERSITY, M...  1989   NaN   \n",
       "61                NEW YORK MEDICAL COLLEGE, VALHALLA NY  1977    NY   \n",
       "934   GUNTUR MEDICAL COLLEGE, NTR UNIVERSITY OF HEAL...  1976   NaN   \n",
       "263                   HARVARD MEDICAL SCHOOL, BOSTON MA  1993    MA   \n",
       "591   JEFFERSON MEDICAL COLLEGE THOMAS JEFFERSON UNI...  1974    PA   \n",
       "826           FL STATE UNIV COLL OF MED, TALLAHASSEE FL  2007    FL   \n",
       "781   COLUMBIA UNIVERSITY COLLEGE OF PHYSICIANS AND ...  1975   NaN   \n",
       "\n",
       "         Country  Num_Payments  ind_law_suit  year  date  area  significance  \n",
       "975   UZBEKISTAN             0             0     0     0     0             0  \n",
       "1047     HUNGARY             0             0     0     0     0             0  \n",
       "120          USA             2             2     2     2     2             2  \n",
       "516        INDIA             0             0     0     0     0             0  \n",
       "61           USA             4             4     4     4     4             4  \n",
       "934        INDIA             2             2     2     2     2             2  \n",
       "263          USA             0             0     0     0     0             0  \n",
       "591          USA             0             0     0     0     0             0  \n",
       "826          USA             0             0     0     0     0             0  \n",
       "781                          0             0     0     0     0             0  "
      ]
     },
     "execution_count": 101,
     "metadata": {},
     "output_type": "execute_result"
    }
   ],
   "source": [
    "df.sample(10)"
   ]
  },
  {
   "cell_type": "code",
   "execution_count": 102,
   "metadata": {},
   "outputs": [
    {
     "data": {
      "text/html": [
       "<div>\n",
       "<style scoped>\n",
       "    .dataframe tbody tr th:only-of-type {\n",
       "        vertical-align: middle;\n",
       "    }\n",
       "\n",
       "    .dataframe tbody tr th {\n",
       "        vertical-align: top;\n",
       "    }\n",
       "\n",
       "    .dataframe thead th {\n",
       "        text-align: right;\n",
       "    }\n",
       "</style>\n",
       "<table border=\"1\" class=\"dataframe\">\n",
       "  <thead>\n",
       "    <tr style=\"text-align: right;\">\n",
       "      <th></th>\n",
       "      <th>Rating</th>\n",
       "      <th>Name</th>\n",
       "      <th>N_Reviews</th>\n",
       "    </tr>\n",
       "  </thead>\n",
       "  <tbody>\n",
       "    <tr>\n",
       "      <th>34</th>\n",
       "      <td>Rated 5 out of 5 stars</td>\n",
       "      <td>Babak Litkouhi</td>\n",
       "      <td>20 reviews</td>\n",
       "    </tr>\n",
       "    <tr>\n",
       "      <th>53</th>\n",
       "      <td>Rated 5 out of 5 stars</td>\n",
       "      <td>Lawrence VanHorn Jr</td>\n",
       "      <td>16 reviews</td>\n",
       "    </tr>\n",
       "    <tr>\n",
       "      <th>15</th>\n",
       "      <td>Rated 4.5 out of 5 stars</td>\n",
       "      <td>Annette Baggott</td>\n",
       "      <td>10 reviews</td>\n",
       "    </tr>\n",
       "    <tr>\n",
       "      <th>26</th>\n",
       "      <td>Rated 4.5 out of 5 stars</td>\n",
       "      <td>Tracy Scheller</td>\n",
       "      <td>38 reviews</td>\n",
       "    </tr>\n",
       "    <tr>\n",
       "      <th>54</th>\n",
       "      <td>Rated 4.5 out of 5 stars</td>\n",
       "      <td>Sharyn Lewin</td>\n",
       "      <td>37 reviews</td>\n",
       "    </tr>\n",
       "    <tr>\n",
       "      <th>3</th>\n",
       "      <td>Rated 4.5 out of 5 stars</td>\n",
       "      <td>Manuel Sy</td>\n",
       "      <td>2 reviews</td>\n",
       "    </tr>\n",
       "    <tr>\n",
       "      <th>36</th>\n",
       "      <td>Rated 2.5 out of 5 stars</td>\n",
       "      <td>Amy Siegel</td>\n",
       "      <td>13 reviews</td>\n",
       "    </tr>\n",
       "    <tr>\n",
       "      <th>62</th>\n",
       "      <td>Rated 4.5 out of 5 stars</td>\n",
       "      <td>Alan Garely</td>\n",
       "      <td>69 reviews</td>\n",
       "    </tr>\n",
       "    <tr>\n",
       "      <th>35</th>\n",
       "      <td>Rated 4.5 out of 5 stars</td>\n",
       "      <td>Joseph Cipriano</td>\n",
       "      <td>8 reviews</td>\n",
       "    </tr>\n",
       "    <tr>\n",
       "      <th>57</th>\n",
       "      <td>Rated 4.5 out of 5 stars</td>\n",
       "      <td>Balwant Chhatwal</td>\n",
       "      <td>8 reviews</td>\n",
       "    </tr>\n",
       "  </tbody>\n",
       "</table>\n",
       "</div>"
      ],
      "text/plain": [
       "                      Rating                  Name   N_Reviews\n",
       "34    Rated 5 out of 5 stars        Babak Litkouhi  20 reviews\n",
       "53    Rated 5 out of 5 stars   Lawrence VanHorn Jr  16 reviews\n",
       "15  Rated 4.5 out of 5 stars       Annette Baggott  10 reviews\n",
       "26  Rated 4.5 out of 5 stars        Tracy Scheller  38 reviews\n",
       "54  Rated 4.5 out of 5 stars          Sharyn Lewin  37 reviews\n",
       "3   Rated 4.5 out of 5 stars             Manuel Sy   2 reviews\n",
       "36  Rated 2.5 out of 5 stars            Amy Siegel  13 reviews\n",
       "62  Rated 4.5 out of 5 stars           Alan Garely  69 reviews\n",
       "35  Rated 4.5 out of 5 stars       Joseph Cipriano   8 reviews\n",
       "57  Rated 4.5 out of 5 stars      Balwant Chhatwal   8 reviews"
      ]
     },
     "execution_count": 102,
     "metadata": {},
     "output_type": "execute_result"
    }
   ],
   "source": [
    "df_hg.sample(10)"
   ]
  },
  {
   "cell_type": "code",
   "execution_count": 74,
   "metadata": {},
   "outputs": [],
   "source": [
    "df_merge['Rating']=df_merge['Rating'].apply(lambda x: int(x))"
   ]
  },
  {
   "cell_type": "code",
   "execution_count": 75,
   "metadata": {},
   "outputs": [
    {
     "data": {
      "text/plain": [
       "Malpractice     object\n",
       "Boro            object\n",
       "Name            object\n",
       "Specialty       object\n",
       "School          object\n",
       "Year            object\n",
       "State           object\n",
       "Country         object\n",
       "Num_Payments     int64\n",
       "ind_law_suit     int64\n",
       "year             int64\n",
       "date             int64\n",
       "area             int64\n",
       "significance     int64\n",
       "Rating           int64\n",
       "dtype: object"
      ]
     },
     "execution_count": 75,
     "metadata": {},
     "output_type": "execute_result"
    }
   ],
   "source": [
    "df_merge.dtypes"
   ]
  },
  {
   "cell_type": "code",
   "execution_count": 76,
   "metadata": {},
   "outputs": [],
   "source": [
    "%matplotlib inline"
   ]
  },
  {
   "cell_type": "code",
   "execution_count": 77,
   "metadata": {},
   "outputs": [],
   "source": [
    "from matplotlib import pyplot as plt\n",
    "plt.style.use('ggplot')"
   ]
  },
  {
   "cell_type": "code",
   "execution_count": 86,
   "metadata": {},
   "outputs": [],
   "source": []
  },
  {
   "cell_type": "code",
   "execution_count": 88,
   "metadata": {},
   "outputs": [
    {
     "data": {
      "text/plain": [
       "Text(0,0.5,'Rating')"
      ]
     },
     "execution_count": 88,
     "metadata": {},
     "output_type": "execute_result"
    },
    {
     "data": {
      "image/png": "[encoded data removed]",
      "text/plain": [
       "<Figure size 432x288 with 1 Axes>"
      ]
     },
     "metadata": {},
     "output_type": "display_data"
    }
   ],
   "source": [
    "plt.scatter(df_merge['Num_Payments'], df_merge['Rating'])\n",
    "plt.xlabel('Law suits')\n",
    "plt.ylabel('Rating')"
   ]
  },
  {
   "cell_type": "code",
   "execution_count": 90,
   "metadata": {},
   "outputs": [
    {
     "data": {
      "image/png": "[encoded data removed]",
      "text/plain": [
       "<Figure size 432x288 with 1 Axes>"
      ]
     },
     "metadata": {},
     "output_type": "display_data"
    }
   ],
   "source": [
    "import seaborn as sns\n",
    "\n",
    "sns.set(style='ticks', context='talk')\n",
    "#snsDF = sns.load_dataset('df_merge')\n",
    "\n",
    "sns.swarmplot('Num_Payments', 'Rating', data=df_merge)\n",
    "sns.despine()"
   ]
  },
  {
   "cell_type": "code",
   "execution_count": 91,
   "metadata": {},
   "outputs": [],
   "source": [
    "df_merge_nonZero= df_merge.loc[df_merge['Rating'] > 0]"
   ]
  },
  {
   "cell_type": "code",
   "execution_count": 92,
   "metadata": {},
   "outputs": [
    {
     "data": {
      "image/png": "[encoded data removed]",
      "text/plain": [
       "<Figure size 432x288 with 1 Axes>"
      ]
     },
     "metadata": {},
     "output_type": "display_data"
    }
   ],
   "source": [
    "sns.set(style='ticks', context='talk')\n",
    "#snsDF = sns.load_dataset('df_merge')\n",
    "\n",
    "sns.swarmplot('Num_Payments', 'Rating', data=df_merge_nonZero)\n",
    "sns.despine()"
   ]
  },
  {
   "cell_type": "code",
   "execution_count": 109,
   "metadata": {},
   "outputs": [
    {
     "ename": "ValueError",
     "evalue": "min() arg is an empty sequence",
     "output_type": "error",
     "traceback": [
      "\u001b[0;31m---------------------------------------------------------------------------\u001b[0m",
      "\u001b[0;31mValueError\u001b[0m                                Traceback (most recent call last)",
      "\u001b[0;32m<ipython-input-109-188d5644da4b>\u001b[0m in \u001b[0;36m<module>\u001b[0;34m()\u001b[0m\n\u001b[1;32m      1\u001b[0m \u001b[0msns\u001b[0m\u001b[0;34m.\u001b[0m\u001b[0mset\u001b[0m\u001b[0;34m(\u001b[0m\u001b[0mstyle\u001b[0m\u001b[0;34m=\u001b[0m\u001b[0;34m'ticks'\u001b[0m\u001b[0;34m,\u001b[0m \u001b[0mcontext\u001b[0m\u001b[0;34m=\u001b[0m\u001b[0;34m'talk'\u001b[0m\u001b[0;34m)\u001b[0m\u001b[0;34m\u001b[0m\u001b[0m\n\u001b[0;32m----> 2\u001b[0;31m \u001b[0msns\u001b[0m\u001b[0;34m.\u001b[0m\u001b[0mstripplot\u001b[0m\u001b[0;34m(\u001b[0m\u001b[0;34m'Num_Payments'\u001b[0m\u001b[0;34m,\u001b[0m \u001b[0;34m'Rating'\u001b[0m\u001b[0;34m,\u001b[0m \u001b[0mdata\u001b[0m\u001b[0;34m=\u001b[0m\u001b[0mdf_merge\u001b[0m\u001b[0;34m,\u001b[0m \u001b[0mjitter\u001b[0m\u001b[0;34m=\u001b[0m\u001b[0;36m0.2\u001b[0m\u001b[0;34m)\u001b[0m\u001b[0;34m\u001b[0m\u001b[0m\n\u001b[0m\u001b[1;32m      3\u001b[0m \u001b[0msns\u001b[0m\u001b[0;34m.\u001b[0m\u001b[0mdespine\u001b[0m\u001b[0;34m(\u001b[0m\u001b[0;34m)\u001b[0m\u001b[0;34m\u001b[0m\u001b[0m\n",
      "\u001b[0;32m/anaconda2/envs/py36/lib/python3.6/site-packages/seaborn/categorical.py\u001b[0m in \u001b[0;36mstripplot\u001b[0;34m(x, y, hue, data, order, hue_order, jitter, dodge, orient, color, palette, size, edgecolor, linewidth, ax, **kwargs)\u001b[0m\n\u001b[1;32m   2587\u001b[0m \u001b[0;34m\u001b[0m\u001b[0m\n\u001b[1;32m   2588\u001b[0m     plotter = _StripPlotter(x, y, hue, data, order, hue_order,\n\u001b[0;32m-> 2589\u001b[0;31m                             jitter, dodge, orient, color, palette)\n\u001b[0m\u001b[1;32m   2590\u001b[0m     \u001b[0;32mif\u001b[0m \u001b[0max\u001b[0m \u001b[0;32mis\u001b[0m \u001b[0;32mNone\u001b[0m\u001b[0;34m:\u001b[0m\u001b[0;34m\u001b[0m\u001b[0m\n\u001b[1;32m   2591\u001b[0m         \u001b[0max\u001b[0m \u001b[0;34m=\u001b[0m \u001b[0mplt\u001b[0m\u001b[0;34m.\u001b[0m\u001b[0mgca\u001b[0m\u001b[0;34m(\u001b[0m\u001b[0;34m)\u001b[0m\u001b[0;34m\u001b[0m\u001b[0m\n",
      "\u001b[0;32m/anaconda2/envs/py36/lib/python3.6/site-packages/seaborn/categorical.py\u001b[0m in \u001b[0;36m__init__\u001b[0;34m(self, x, y, hue, data, order, hue_order, jitter, dodge, orient, color, palette)\u001b[0m\n\u001b[1;32m   1131\u001b[0m         \u001b[0;34m\"\"\"Initialize the plotter.\"\"\"\u001b[0m\u001b[0;34m\u001b[0m\u001b[0m\n\u001b[1;32m   1132\u001b[0m         \u001b[0mself\u001b[0m\u001b[0;34m.\u001b[0m\u001b[0mestablish_variables\u001b[0m\u001b[0;34m(\u001b[0m\u001b[0mx\u001b[0m\u001b[0;34m,\u001b[0m \u001b[0my\u001b[0m\u001b[0;34m,\u001b[0m \u001b[0mhue\u001b[0m\u001b[0;34m,\u001b[0m \u001b[0mdata\u001b[0m\u001b[0;34m,\u001b[0m \u001b[0morient\u001b[0m\u001b[0;34m,\u001b[0m \u001b[0morder\u001b[0m\u001b[0;34m,\u001b[0m \u001b[0mhue_order\u001b[0m\u001b[0;34m)\u001b[0m\u001b[0;34m\u001b[0m\u001b[0m\n\u001b[0;32m-> 1133\u001b[0;31m         \u001b[0mself\u001b[0m\u001b[0;34m.\u001b[0m\u001b[0mestablish_colors\u001b[0m\u001b[0;34m(\u001b[0m\u001b[0mcolor\u001b[0m\u001b[0;34m,\u001b[0m \u001b[0mpalette\u001b[0m\u001b[0;34m,\u001b[0m \u001b[0;36m1\u001b[0m\u001b[0;34m)\u001b[0m\u001b[0;34m\u001b[0m\u001b[0m\n\u001b[0m\u001b[1;32m   1134\u001b[0m \u001b[0;34m\u001b[0m\u001b[0m\n\u001b[1;32m   1135\u001b[0m         \u001b[0;31m# Set object attributes\u001b[0m\u001b[0;34m\u001b[0m\u001b[0;34m\u001b[0m\u001b[0m\n",
      "\u001b[0;32m/anaconda2/envs/py36/lib/python3.6/site-packages/seaborn/categorical.py\u001b[0m in \u001b[0;36mestablish_colors\u001b[0;34m(self, color, palette, saturation)\u001b[0m\n\u001b[1;32m    309\u001b[0m         \u001b[0;31m# Determine the gray color to use for the lines framing the plot\u001b[0m\u001b[0;34m\u001b[0m\u001b[0;34m\u001b[0m\u001b[0m\n\u001b[1;32m    310\u001b[0m         \u001b[0mlight_vals\u001b[0m \u001b[0;34m=\u001b[0m \u001b[0;34m[\u001b[0m\u001b[0mcolorsys\u001b[0m\u001b[0;34m.\u001b[0m\u001b[0mrgb_to_hls\u001b[0m\u001b[0;34m(\u001b[0m\u001b[0;34m*\u001b[0m\u001b[0mc\u001b[0m\u001b[0;34m)\u001b[0m\u001b[0;34m[\u001b[0m\u001b[0;36m1\u001b[0m\u001b[0;34m]\u001b[0m \u001b[0;32mfor\u001b[0m \u001b[0mc\u001b[0m \u001b[0;32min\u001b[0m \u001b[0mrgb_colors\u001b[0m\u001b[0;34m]\u001b[0m\u001b[0;34m\u001b[0m\u001b[0m\n\u001b[0;32m--> 311\u001b[0;31m         \u001b[0ml\u001b[0m \u001b[0;34m=\u001b[0m \u001b[0mmin\u001b[0m\u001b[0;34m(\u001b[0m\u001b[0mlight_vals\u001b[0m\u001b[0;34m)\u001b[0m \u001b[0;34m*\u001b[0m \u001b[0;36m.6\u001b[0m\u001b[0;34m\u001b[0m\u001b[0m\n\u001b[0m\u001b[1;32m    312\u001b[0m         \u001b[0mgray\u001b[0m \u001b[0;34m=\u001b[0m \u001b[0mmpl\u001b[0m\u001b[0;34m.\u001b[0m\u001b[0mcolors\u001b[0m\u001b[0;34m.\u001b[0m\u001b[0mrgb2hex\u001b[0m\u001b[0;34m(\u001b[0m\u001b[0;34m(\u001b[0m\u001b[0ml\u001b[0m\u001b[0;34m,\u001b[0m \u001b[0ml\u001b[0m\u001b[0;34m,\u001b[0m \u001b[0ml\u001b[0m\u001b[0;34m)\u001b[0m\u001b[0;34m)\u001b[0m\u001b[0;34m\u001b[0m\u001b[0m\n\u001b[1;32m    313\u001b[0m \u001b[0;34m\u001b[0m\u001b[0m\n",
      "\u001b[0;31mValueError\u001b[0m: min() arg is an empty sequence"
     ]
    }
   ],
   "source": [
    "sns.set(style='ticks', context='talk')\n",
    "sns.stripplot('Num_Payments', 'Rating', data=df_merge, jitter=0.2)\n",
    "sns.despine()"
   ]
  },
  {
   "cell_type": "code",
   "execution_count": null,
   "metadata": {},
   "outputs": [],
   "source": []
  }
 ],
 "metadata": {
  "kernelspec": {
   "display_name": "Python 3",
   "language": "python",
   "name": "python3"
  },
  "language_info": {
   "codemirror_mode": {
    "name": "ipython",
    "version": 3
   },
   "file_extension": ".py",
   "mimetype": "text/x-python",
   "name": "python",
   "nbconvert_exporter": "python",
   "pygments_lexer": "ipython3",
   "version": "3.6.5"
  }
 },
 "nbformat": 4,
 "nbformat_minor": 2
}
