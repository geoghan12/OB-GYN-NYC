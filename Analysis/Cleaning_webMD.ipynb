{
 "cells": [
  {
   "cell_type": "code",
   "execution_count": 8,
   "metadata": {},
   "outputs": [],
   "source": [
    "import numpy as np\n",
    "import pandas as pd\n",
    "import re"
   ]
  },
  {
   "cell_type": "code",
   "execution_count": 9,
   "metadata": {},
   "outputs": [],
   "source": [
    "file_dir=\"/Users/sophiegeoghan/Desktop/OB-GYN Webscraping/webmd_nyc/webmd_nyc/\"\n",
    "files=['webmd_zipcodes_10453.csv','webmd_all.csv','webmd_Brooklyn.csv',\n",
    "       'webmd_BrooklynHeights.csv','webmd_Manhattan.csv','webmd_Queens.csv',\n",
    "       'webmd_zipcodes_11215.csv','webmd_zipcodes_11205.csv','webmd_zipcodes_11206.csv','webmd_zipcodes_11231.csv',\n",
    "       'webmd_zipcodes_11201.csv','webmd_zipcodes_10306.csv','webmd_zipcodes_10307.csv','webmd_zipcodes_10453.csv']"
   ]
  },
  {
   "cell_type": "code",
   "execution_count": 10,
   "metadata": {},
   "outputs": [
    {
     "name": "stdout",
     "output_type": "stream",
     "text": [
      "webmd_zipcodes_10453.csv\n",
      "webmd_all.csv\n",
      "webmd_Brooklyn.csv\n",
      "webmd_BrooklynHeights.csv\n",
      "webmd_Manhattan.csv\n",
      "webmd_Queens.csv\n",
      "webmd_zipcodes_11215.csv\n",
      "webmd_zipcodes_11205.csv\n",
      "webmd_zipcodes_11206.csv\n",
      "webmd_zipcodes_11231.csv\n",
      "webmd_zipcodes_11201.csv\n",
      "webmd_zipcodes_10306.csv\n",
      "webmd_zipcodes_10307.csv\n",
      "webmd_zipcodes_10453.csv\n"
     ]
    }
   ],
   "source": [
    "webmd=pd.DataFrame(columns=['name',\"rating\"])\n",
    "for file in files:\n",
    "    print(file)\n",
    "    filename=file_dir+file\n",
    "    df_tmp=pd.read_csv(filename,header='infer')\n",
    "    #df_tmp.columns=['Name',\"Rating\"]\n",
    "    webmd=pd.concat([webmd,df_tmp],axis=0)\n",
    "webmd.columns=['Name',\"WebMD_Rating\"]"
   ]
  },
  {
   "cell_type": "code",
   "execution_count": 11,
   "metadata": {},
   "outputs": [
    {
     "data": {
      "text/plain": [
       "421"
      ]
     },
     "execution_count": 11,
     "metadata": {},
     "output_type": "execute_result"
    }
   ],
   "source": [
    "webmd=webmd.drop_duplicates('Name')\n",
    "webmd['Name'] = webmd['Name'].apply(lambda x: re.sub('( [A-Z]{1,1}). ', ' ', x))\n",
    "webmd['Name']=webmd['Name'].apply(lambda x: re.sub('(, MD)', '', x))\n",
    "len(webmd)"
   ]
  },
  {
   "cell_type": "code",
   "execution_count": 12,
   "metadata": {},
   "outputs": [],
   "source": [
    "webmd.to_csv('webmd.csv')"
   ]
  },
  {
   "cell_type": "code",
   "execution_count": null,
   "metadata": {},
   "outputs": [],
   "source": []
  }
 ],
 "metadata": {
  "kernelspec": {
   "display_name": "Python 3",
   "language": "python",
   "name": "python3"
  },
  "language_info": {
   "codemirror_mode": {
    "name": "ipython",
    "version": 3
   },
   "file_extension": ".py",
   "mimetype": "text/x-python",
   "name": "python",
   "nbconvert_exporter": "python",
   "pygments_lexer": "ipython3",
   "version": "3.6.5"
  }
 },
 "nbformat": 4,
 "nbformat_minor": 2
}
