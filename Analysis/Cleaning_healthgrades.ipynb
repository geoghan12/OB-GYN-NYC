{
 "cells": [
  {
   "cell_type": "code",
   "execution_count": 11,
   "metadata": {},
   "outputs": [],
   "source": [
    "import numpy as np\n",
    "import pandas as pd\n",
    "import re"
   ]
  },
  {
   "cell_type": "code",
   "execution_count": 12,
   "metadata": {},
   "outputs": [
    {
     "name": "stdout",
     "output_type": "stream",
     "text": [
      "12\n"
     ]
    }
   ],
   "source": [
    "file_dir=\"/Users/sophiegeoghan/Desktop/OB-GYN Webscraping/nysdr_test/healthgrades\"\n",
    "files=['.csv','_11205.csv','_50.csv','_zips.csv','_10027.csv','_10453.csv','_11201.csv','_11215.csv','_11217.csv',\n",
    "      '_try_all2.csv','_tray_all.csv','_try_all.csv'] #'_try_all.csv',\n",
    "print(len(files))\n",
    "hg=pd.DataFrame(columns=['hg_rating',\"Name\",\"n_reviews\"])\n",
    "for file in files:\n",
    "    #print(file)\n",
    "    filename=file_dir+file\n",
    "    df_tmp=pd.read_csv(filename,header=None)\n",
    "    df_tmp.columns=['hg_rating',\"Name\",\"n_reviews\"]\n",
    "    hg=pd.concat([hg,df_tmp],axis=0)\n"
   ]
  },
  {
   "cell_type": "code",
   "execution_count": 13,
   "metadata": {},
   "outputs": [],
   "source": [
    "hg=hg.drop_duplicates('Name')\n",
    "hg['Name'] = hg['Name'].apply(lambda x: re.sub('Dr. ', ' ', x))\n",
    "hg['Name']=hg['Name'].apply(lambda x: re.sub('(, MD)', '', x))\n",
    "hg['Name']=hg['Name'].apply(lambda x: x.strip())"
   ]
  },
  {
   "cell_type": "code",
   "execution_count": 14,
   "metadata": {},
   "outputs": [],
   "source": [
    "hg[\"hg_rating\"]=hg['hg_rating'].apply(lambda x: re.sub('Rated ','',x))\n",
    "hg[\"hg_rating\"]=hg['hg_rating'].apply(lambda x: re.sub(' out of 5 stars','',x))\n",
    "hg[\"hg_rating\"]=hg['hg_rating'].apply(lambda x: float(x))"
   ]
  },
  {
   "cell_type": "code",
   "execution_count": 15,
   "metadata": {},
   "outputs": [],
   "source": [
    "hg[\"n_reviews\"]=hg[\"n_reviews\"].apply(lambda x: re.sub(' reviews','',x))\n",
    "hg[\"n_reviews\"]=hg[\"n_reviews\"].apply(lambda x: re.sub('1 review','1',x))\n",
    "hg[\"n_reviews\"]=hg[\"n_reviews\"].apply(lambda x: int(x))"
   ]
  },
  {
   "cell_type": "code",
   "execution_count": 16,
   "metadata": {},
   "outputs": [
    {
     "data": {
      "text/plain": [
       "544"
      ]
     },
     "execution_count": 16,
     "metadata": {},
     "output_type": "execute_result"
    }
   ],
   "source": [
    "len(hg)"
   ]
  },
  {
   "cell_type": "code",
   "execution_count": 17,
   "metadata": {},
   "outputs": [],
   "source": [
    "hg.to_csv('hg.csv')"
   ]
  },
  {
   "cell_type": "code",
   "execution_count": null,
   "metadata": {},
   "outputs": [],
   "source": []
  }
 ],
 "metadata": {
  "kernelspec": {
   "display_name": "Python 3",
   "language": "python",
   "name": "python3"
  },
  "language_info": {
   "codemirror_mode": {
    "name": "ipython",
    "version": 3
   },
   "file_extension": ".py",
   "mimetype": "text/x-python",
   "name": "python",
   "nbconvert_exporter": "python",
   "pygments_lexer": "ipython3",
   "version": "3.6.5"
  }
 },
 "nbformat": 4,
 "nbformat_minor": 2
}
