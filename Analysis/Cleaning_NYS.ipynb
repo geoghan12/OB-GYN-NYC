{
 "cells": [
  {
   "cell_type": "code",
   "execution_count": 40,
   "metadata": {},
   "outputs": [],
   "source": [
    "import numpy as np\n",
    "import pandas as pd\n",
    "import re"
   ]
  },
  {
   "cell_type": "code",
   "execution_count": 41,
   "metadata": {},
   "outputs": [],
   "source": [
    "df=pd.read_csv(\"/Users/sophiegeoghan/Desktop/OB-GYN Webscraping/nysdr_test/NYC_obgyn_final.csv\", header=None)\n",
    "df.columns=[\"Malpractice\",\"Boro\",\"Education\",\"Name\",\"Specialty\"]"
   ]
  },
  {
   "cell_type": "code",
   "execution_count": 42,
   "metadata": {},
   "outputs": [],
   "source": [
    "def split_out_year(ed):\n",
    "    try:\n",
    "        s=re.search(',\\n',ed).span()\n",
    "    except:\n",
    "        s=(None,None)\n",
    "    school=ed[0:s[0]]\n",
    "    year= ed[s[1]:]\n",
    "    return year\n",
    "def split_out_school(ed):\n",
    "    try:\n",
    "        s=re.search(',\\n',ed).span()\n",
    "    except:\n",
    "        s=(None,None)\n",
    "    return ed[0:s[0]]\n",
    "df['School']=list(map(split_out_school,df.Education))\n",
    "df['Year']=list(map(split_out_year,df.Education))\n",
    "df=df.drop(\"Education\",axis=1)"
   ]
  },
  {
   "cell_type": "code",
   "execution_count": 43,
   "metadata": {},
   "outputs": [],
   "source": [
    "us_states=pd.read_csv(\"/Users/sophiegeoghan/Desktop/OB-GYN Webscraping/nysdr_test/States.csv\")\n",
    "us_states=us_states[us_states.x!='US']\n",
    "us_states=us_states['x']\n",
    "\n",
    "df['State'] = df['School'].str.extract('( [A-Z]{2}$)')\n",
    "df.State=df.State.str.strip()\n"
   ]
  },
  {
   "cell_type": "code",
   "execution_count": 44,
   "metadata": {},
   "outputs": [],
   "source": [
    "df.State=df.State.fillna('outside the US')"
   ]
  },
  {
   "cell_type": "code",
   "execution_count": 45,
   "metadata": {},
   "outputs": [],
   "source": [
    "private=['Boston University School Of Medicine, Boston Ma', 'Duke University School Of Medicine, Durham Nc',\n",
    "         'Harvard Medical School, Boston Ma', 'Johns Hopkins University School Of Medicine, Baltimore Md', \n",
    "         'New York University School Of Medicine, Ny',\n",
    "         'Wake Forest University School Of Medicine, Winston-Salem Nc',\n",
    "         'Weill Cornell Medical College Of Cornell University,New York Ny',\n",
    "         'Yale University School Of Medicine, New Haven Ct',\n",
    "         'Vanderbilt University School Of Medicine, Nashville Tn',\n",
    "        'University Of Wisconsin Medical School, Madison Wi', 'University Of Michigan Medical School, Ann Arbor Mi']\n",
    "private=list(map(lambda x: x.upper(),private))"
   ]
  },
  {
   "cell_type": "code",
   "execution_count": 46,
   "metadata": {},
   "outputs": [],
   "source": [
    "# Finding country where they went to school\n",
    "ind=-1\n",
    "countries=[]\n",
    "school_rank=[]\n",
    "for st in df.State:\n",
    "    ind+=1\n",
    "    school=df.loc[ind][\"School\"]\n",
    "    if st in us_states.values:\n",
    "        countries.append('USA')\n",
    "        if school in private:\n",
    "            school_rank.append(1)\n",
    "        else:\n",
    "            school_rank.append(2)\n",
    "    else:\n",
    "        school_rank.append(3)\n",
    "        try:\n",
    "            country=re.search(', [A-Z]+$',df.School[ind]).group() #{1}[a-z]\n",
    "            countries.append(country[2:])#df['School'].str.extract(', [A-Z]{1}[a-z]+$')\n",
    "        except Exception as e:\n",
    "            #print(e)\n",
    "            countries.append('')\n",
    "            continue\n",
    "df['Country']=countries\n",
    "df['School_Rank']=school_rank"
   ]
  },
  {
   "cell_type": "code",
   "execution_count": 47,
   "metadata": {
    "scrolled": true
   },
   "outputs": [],
   "source": [
    "def find_num_pay(mal):\n",
    "    # check Judgments and Arbitration Awards\n",
    "    start,end =re.search('Number of awards:',mal).span()\n",
    "    try:\n",
    "        a= int(mal[end+1:end+2])\n",
    "    except:\n",
    "        # check Settlements\n",
    "        start,end_p =re.search('Number of payments:',mal).span()\n",
    "        a= int(mal[end_p+1:end_p+2])\n",
    "    return a"
   ]
  },
  {
   "cell_type": "code",
   "execution_count": 48,
   "metadata": {},
   "outputs": [],
   "source": [
    "ind=0\n",
    "num_payments=[]\n",
    "for m in range(len(df)):\n",
    "    #print(ind)\n",
    "    if df.Malpractice[ind]=='None reported':\n",
    "        num_payments.append(0)\n",
    "    else:\n",
    "        a=find_num_pay(df.Malpractice[ind])\n",
    "        num_payments.append(a)\n",
    "    ind+=1\n",
    "df['Num_Payments']=num_payments"
   ]
  },
  {
   "cell_type": "code",
   "execution_count": 49,
   "metadata": {},
   "outputs": [],
   "source": [
    "df['Name'].apply(lambda x: \" \".join(x.title() for x in x.split()))\n",
    "df['Name']=df['Name'].apply(lambda x: \" \".join([x.split()[1].title(),x.split()[0][:-1].title()]))\n",
    "df['Num_Payments']=df['Num_Payments'].apply(lambda x: int(x))"
   ]
  },
  {
   "cell_type": "code",
   "execution_count": null,
   "metadata": {},
   "outputs": [],
   "source": []
  },
  {
   "cell_type": "code",
   "execution_count": 50,
   "metadata": {},
   "outputs": [],
   "source": [
    "df.to_csv(\"nysdr.csv\")"
   ]
  },
  {
   "cell_type": "code",
   "execution_count": null,
   "metadata": {},
   "outputs": [],
   "source": []
  }
 ],
 "metadata": {
  "kernelspec": {
   "display_name": "Python 3",
   "language": "python",
   "name": "python3"
  },
  "language_info": {
   "codemirror_mode": {
    "name": "ipython",
    "version": 3
   },
   "file_extension": ".py",
   "mimetype": "text/x-python",
   "name": "python",
   "nbconvert_exporter": "python",
   "pygments_lexer": "ipython3",
   "version": "3.6.5"
  }
 },
 "nbformat": 4,
 "nbformat_minor": 2
}
